{
  "cells": [
    {
      "cell_type": "markdown",
      "metadata": {
        "id": "view-in-github",
        "colab_type": "text"
      },
      "source": [
        "<a href=\"https://colab.research.google.com/github/eduusouza/PCD/blob/main/Entrega_2_Trabalho_PCD.ipynb\" target=\"_parent\"><img src=\"https://colab.research.google.com/assets/colab-badge.svg\" alt=\"Open In Colab\"/></a>"
      ]
    },
    {
      "cell_type": "markdown",
      "source": [
        "# Código usando CUDA"
      ],
      "metadata": {
        "id": "KW5tAzE2pfoL"
      }
    },
    {
      "cell_type": "markdown",
      "source": [
        "## Configurando CUDA"
      ],
      "metadata": {
        "id": "9NCDYa-WqGuZ"
      }
    },
    {
      "cell_type": "code",
      "source": [
        "!pip install git+https://github.com/lesc-ufv/cad4u.git &> /dev/null\n",
        "!git clone https://github.com/lesc-ufv/cad4u &> /dev/null\n",
        "%load_ext plugin"
      ],
      "metadata": {
        "id": "lL684s2xqBYd"
      },
      "execution_count": null,
      "outputs": []
    },
    {
      "cell_type": "code",
      "source": [
        "!nvidia-smi"
      ],
      "metadata": {
        "colab": {
          "base_uri": "https://localhost:8080/"
        },
        "id": "d_IxMv29qNGE",
        "outputId": "481b010d-4a0a-4e5e-f8be-fc7b0d9e295f"
      },
      "execution_count": null,
      "outputs": [
        {
          "output_type": "stream",
          "name": "stdout",
          "text": [
            "Fri Jan 17 00:41:47 2025       \n",
            "+---------------------------------------------------------------------------------------+\n",
            "| NVIDIA-SMI 535.104.05             Driver Version: 535.104.05   CUDA Version: 12.2     |\n",
            "|-----------------------------------------+----------------------+----------------------+\n",
            "| GPU  Name                 Persistence-M | Bus-Id        Disp.A | Volatile Uncorr. ECC |\n",
            "| Fan  Temp   Perf          Pwr:Usage/Cap |         Memory-Usage | GPU-Util  Compute M. |\n",
            "|                                         |                      |               MIG M. |\n",
            "|=========================================+======================+======================|\n",
            "|   0  Tesla T4                       Off | 00000000:00:04.0 Off |                    0 |\n",
            "| N/A   59C    P8              11W /  70W |      0MiB / 15360MiB |      0%      Default |\n",
            "|                                         |                      |                  N/A |\n",
            "+-----------------------------------------+----------------------+----------------------+\n",
            "                                                                                         \n",
            "+---------------------------------------------------------------------------------------+\n",
            "| Processes:                                                                            |\n",
            "|  GPU   GI   CI        PID   Type   Process name                            GPU Memory |\n",
            "|        ID   ID                                                             Usage      |\n",
            "|=======================================================================================|\n",
            "|  No running processes found                                                           |\n",
            "+---------------------------------------------------------------------------------------+\n"
          ]
        }
      ]
    },
    {
      "cell_type": "markdown",
      "source": [
        "### Execução da aplicação deviceQuery"
      ],
      "metadata": {
        "id": "1LjqpUXmqbgN"
      }
    },
    {
      "cell_type": "code",
      "source": [
        "!git clone https://github.com/NVIDIA/cuda-samples.git\n",
        "%cd cuda-samples/Samples/1_Utilities/deviceQuery\n",
        "!make"
      ],
      "metadata": {
        "colab": {
          "base_uri": "https://localhost:8080/"
        },
        "id": "nDEamAc2qZlE",
        "outputId": "1e343431-4a1c-49b8-9e22-d2bcdd77d3fa"
      },
      "execution_count": null,
      "outputs": [
        {
          "output_type": "stream",
          "name": "stdout",
          "text": [
            "Cloning into 'cuda-samples'...\n",
            "remote: Enumerating objects: 19507, done.\u001b[K\n",
            "remote: Counting objects: 100% (4227/4227), done.\u001b[K\n",
            "remote: Compressing objects: 100% (655/655), done.\u001b[K\n",
            "remote: Total 19507 (delta 3932), reused 3572 (delta 3572), pack-reused 15280 (from 2)\u001b[K\n",
            "Receiving objects: 100% (19507/19507), 133.82 MiB | 22.93 MiB/s, done.\n",
            "Resolving deltas: 100% (17105/17105), done.\n",
            "Updating files: 100% (4026/4026), done.\n",
            "/content/cuda-samples/Samples/1_Utilities/deviceQuery/cuda-samples/Samples/1_Utilities/deviceQuery\n",
            "/usr/local/cuda/bin/nvcc -ccbin g++ -I../../../Common -m64 --threads 0 --std=c++11 -gencode arch=compute_50,code=sm_50 -gencode arch=compute_52,code=sm_52 -gencode arch=compute_60,code=sm_60 -gencode arch=compute_61,code=sm_61 -gencode arch=compute_70,code=sm_70 -gencode arch=compute_75,code=sm_75 -gencode arch=compute_80,code=sm_80 -gencode arch=compute_86,code=sm_86 -gencode arch=compute_89,code=sm_89 -gencode arch=compute_90,code=sm_90 -gencode arch=compute_90,code=compute_90 -o deviceQuery.o -c deviceQuery.cpp\n",
            "/usr/local/cuda/bin/nvcc -ccbin g++ -m64 -gencode arch=compute_50,code=sm_50 -gencode arch=compute_52,code=sm_52 -gencode arch=compute_60,code=sm_60 -gencode arch=compute_61,code=sm_61 -gencode arch=compute_70,code=sm_70 -gencode arch=compute_75,code=sm_75 -gencode arch=compute_80,code=sm_80 -gencode arch=compute_86,code=sm_86 -gencode arch=compute_89,code=sm_89 -gencode arch=compute_90,code=sm_90 -gencode arch=compute_90,code=compute_90 -o deviceQuery deviceQuery.o \n",
            "mkdir -p ../../../bin/x86_64/linux/release\n",
            "cp deviceQuery ../../../bin/x86_64/linux/release\n"
          ]
        }
      ]
    },
    {
      "cell_type": "markdown",
      "source": [
        "## Código 1 thread p/ bloco"
      ],
      "metadata": {
        "id": "P4TAI9HaqmI2"
      }
    },
    {
      "cell_type": "code",
      "source": [
        "%%writefile code1.cu\n",
        "\n",
        "#include <stdio.h>\n",
        "#include <stdlib.h>\n",
        "#include <math.h>\n",
        "#include <cuda.h>\n",
        "\n",
        "#define N 4000  // Tamanho da grade\n",
        "#define T 500   // Número de iterações no tempo\n",
        "#define D 0.1   // Coeficiente de difusão\n",
        "#define DELTA_T 0.01\n",
        "#define DELTA_X 1.0\n",
        "\n",
        "// Kernel CUDA para calcular a nova matriz de concentração\n",
        "__global__ void diff_eq_kernel(double *C, double *C_new, double *difmedio, int n) {\n",
        "    int i = blockIdx.y * blockDim.y + threadIdx.y;\n",
        "    int j = blockIdx.x * blockDim.x + threadIdx.x;\n",
        "\n",
        "    if (i > 0 && i < n - 1 && j > 0 && j < n - 1) {\n",
        "        C_new[i * n + j] = C[i * n + j] + D * DELTA_T * (\n",
        "            (C[(i + 1) * n + j] + C[(i - 1) * n + j] +\n",
        "             C[i * n + (j + 1)] + C[i * n + (j - 1)] -\n",
        "             4.0 * C[i * n + j]) / (DELTA_X * DELTA_X)\n",
        "        );\n",
        "\n",
        "        atomicAdd(difmedio, fabs(C_new[i * n + j] - C[i * n + j]));\n",
        "    }\n",
        "}\n",
        "\n",
        "// Função principal\n",
        "int main() {\n",
        "    size_t size = N * N * sizeof(double);\n",
        "\n",
        "    // Alocar memória no host (CPU)\n",
        "    double *C = (double *)malloc(size);\n",
        "    double *C_new = (double *)malloc(size);\n",
        "\n",
        "    if (C == NULL || C_new == NULL) {\n",
        "        fprintf(stderr, \"Falha na alocação de memória no host\\n\");\n",
        "        return 1;\n",
        "    }\n",
        "\n",
        "    // Inicializar as matrizes no host\n",
        "    for (int i = 0; i < N; i++) {\n",
        "        for (int j = 0; j < N; j++) {\n",
        "            C[i * N + j] = 0.0;\n",
        "            C_new[i * N + j] = 0.0;\n",
        "        }\n",
        "    }\n",
        "    C[N / 2 * N + N / 2] = 1.0; // Concentração inicial no centro\n",
        "\n",
        "    // Alocar memória no dispositivo (GPU)\n",
        "    double *d_C, *d_C_new, *d_difmedio;\n",
        "    cudaMalloc((void **)&d_C, size);\n",
        "    cudaMalloc((void **)&d_C_new, size);\n",
        "    cudaMalloc((void **)&d_difmedio, sizeof(double));\n",
        "\n",
        "    // Copiar dados do host para o dispositivo\n",
        "    cudaMemcpy(d_C, C, size, cudaMemcpyHostToDevice);\n",
        "    cudaMemcpy(d_C_new, C_new, size, cudaMemcpyHostToDevice);\n",
        "\n",
        "\n",
        "\n",
        "\n",
        "\n",
        "\n",
        "    dim3 threadsPerBlock(1, 1);\n",
        "    dim3 blocksPerGrid((N + threadsPerBlock.x - 1) / threadsPerBlock.x,\n",
        "                       (N + threadsPerBlock.y - 1) / threadsPerBlock.y);\n",
        "\n",
        "    // Loop de iterações no tempo\n",
        "    double start_time = clock();\n",
        "    for (int t = 0; t < T; t++) {\n",
        "        double difmedio = 0.0;\n",
        "        cudaMemcpy(d_difmedio, &difmedio, sizeof(double), cudaMemcpyHostToDevice);\n",
        "\n",
        "        // Executar o kernel\n",
        "        diff_eq_kernel<<<blocksPerGrid, threadsPerBlock>>>(d_C, d_C_new, d_difmedio, N);\n",
        "        cudaDeviceSynchronize();\n",
        "\n",
        "        // Trocar os ponteiros\n",
        "        double *temp = d_C;\n",
        "        d_C = d_C_new;\n",
        "        d_C_new = temp;\n",
        "\n",
        "        // Obter difmedio do dispositivo\n",
        "        cudaMemcpy(&difmedio, d_difmedio, sizeof(double), cudaMemcpyDeviceToHost);\n",
        "\n",
        "        if ((t % 100) == 0) {\n",
        "            printf(\"Interação %d - diferença = %g\\n\", t, difmedio / ((N - 2) * (N - 2)));\n",
        "        }\n",
        "    }\n",
        "    double end_time = clock();\n",
        "\n",
        "    // Copiar os resultados finais para o host\n",
        "    cudaMemcpy(C, d_C, size, cudaMemcpyDeviceToHost);\n",
        "\n",
        "    printf(\"Concentração final no centro: %f\\n\", C[N / 2 * N + N / 2]);\n",
        "    printf(\"Tempo de execução: %f segundos\\n\", (end_time - start_time) / CLOCKS_PER_SEC);\n",
        "\n",
        "    // Liberar memória no dispositivo e no host\n",
        "    cudaFree(d_C);\n",
        "    cudaFree(d_C_new);\n",
        "    cudaFree(d_difmedio);\n",
        "    free(C);\n",
        "    free(C_new);\n",
        "\n",
        "    return 0;\n",
        "}\n"
      ],
      "metadata": {
        "colab": {
          "base_uri": "https://localhost:8080/"
        },
        "id": "euaP0UCvpqMb",
        "outputId": "1fa33b61-7c26-4f3a-9ee9-fbf27ff64b64"
      },
      "execution_count": null,
      "outputs": [
        {
          "output_type": "stream",
          "name": "stdout",
          "text": [
            "Writing code1.cu\n"
          ]
        }
      ]
    },
    {
      "cell_type": "code",
      "source": [
        "!nvcc -arch=sm_60 code1.cu -o code1\n"
      ],
      "metadata": {
        "id": "hFEq7w31ttTP"
      },
      "execution_count": null,
      "outputs": []
    },
    {
      "cell_type": "code",
      "source": [
        "!./code1"
      ],
      "metadata": {
        "colab": {
          "base_uri": "https://localhost:8080/"
        },
        "id": "EAhlyfeSuWLu",
        "outputId": "4e3e51a8-4bde-4c47-e5cf-d5107beaf863"
      },
      "execution_count": null,
      "outputs": [
        {
          "output_type": "stream",
          "name": "stdout",
          "text": [
            "Interação 0 - diferença = 5.005e-10\n",
            "Interação 100 - diferença = 3.07812e-10\n",
            "Interação 200 - diferença = 1.95253e-10\n",
            "Interação 300 - diferença = 1.27754e-10\n",
            "Interação 400 - diferença = 1.05302e-10\n",
            "Concentração final no centro: 0.216512\n",
            "Tempo de execução: 16.946408 segundos\n"
          ]
        }
      ]
    },
    {
      "cell_type": "markdown",
      "source": [
        "## Código 4 thread p/ bloco"
      ],
      "metadata": {
        "id": "mCG7BDnj-WoI"
      }
    },
    {
      "cell_type": "code",
      "source": [
        "%%writefile code2.cu\n",
        "\n",
        "#include <stdio.h>\n",
        "#include <stdlib.h>\n",
        "#include <math.h>\n",
        "#include <cuda.h>\n",
        "\n",
        "#define N 4000  // Tamanho da grade\n",
        "#define T 500   // Número de iterações no tempo\n",
        "#define D 0.1   // Coeficiente de difusão\n",
        "#define DELTA_T 0.01\n",
        "#define DELTA_X 1.0\n",
        "\n",
        "// Kernel CUDA para calcular a nova matriz de concentração\n",
        "__global__ void diff_eq_kernel(double *C, double *C_new, double *difmedio, int n) {\n",
        "    int i = blockIdx.y * blockDim.y + threadIdx.y;\n",
        "    int j = blockIdx.x * blockDim.x + threadIdx.x;\n",
        "\n",
        "    if (i > 0 && i < n - 1 && j > 0 && j < n - 1) {\n",
        "        C_new[i * n + j] = C[i * n + j] + D * DELTA_T * (\n",
        "            (C[(i + 1) * n + j] + C[(i - 1) * n + j] +\n",
        "             C[i * n + (j + 1)] + C[i * n + (j - 1)] -\n",
        "             4.0 * C[i * n + j]) / (DELTA_X * DELTA_X)\n",
        "        );\n",
        "\n",
        "        atomicAdd(difmedio, fabs(C_new[i * n + j] - C[i * n + j]));\n",
        "    }\n",
        "}\n",
        "\n",
        "// Função principal\n",
        "int main() {\n",
        "    size_t size = N * N * sizeof(double);\n",
        "\n",
        "    // Alocar memória no host (CPU)\n",
        "    double *C = (double *)malloc(size);\n",
        "    double *C_new = (double *)malloc(size);\n",
        "\n",
        "    if (C == NULL || C_new == NULL) {\n",
        "        fprintf(stderr, \"Falha na alocação de memória no host\\n\");\n",
        "        return 1;\n",
        "    }\n",
        "\n",
        "    // Inicializar as matrizes no host\n",
        "    for (int i = 0; i < N; i++) {\n",
        "        for (int j = 0; j < N; j++) {\n",
        "            C[i * N + j] = 0.0;\n",
        "            C_new[i * N + j] = 0.0;\n",
        "        }\n",
        "    }\n",
        "    C[N / 2 * N + N / 2] = 1.0; // Concentração inicial no centro\n",
        "\n",
        "    // Alocar memória no dispositivo (GPU)\n",
        "    double *d_C, *d_C_new, *d_difmedio;\n",
        "    cudaMalloc((void **)&d_C, size);\n",
        "    cudaMalloc((void **)&d_C_new, size);\n",
        "    cudaMalloc((void **)&d_difmedio, sizeof(double));\n",
        "\n",
        "    // Copiar dados do host para o dispositivo\n",
        "    cudaMemcpy(d_C, C, size, cudaMemcpyHostToDevice);\n",
        "    cudaMemcpy(d_C_new, C_new, size, cudaMemcpyHostToDevice);\n",
        "\n",
        "\n",
        "\n",
        "\n",
        "\n",
        "\n",
        "\n",
        "\n",
        "    dim3 threadsPerBlock(2, 2);\n",
        "    dim3 blocksPerGrid((N + threadsPerBlock.x - 1) / threadsPerBlock.x,\n",
        "                       (N + threadsPerBlock.y - 1) / threadsPerBlock.y);\n",
        "\n",
        "    // Loop de iterações no tempo\n",
        "    double start_time = clock();\n",
        "    for (int t = 0; t < T; t++) {\n",
        "        double difmedio = 0.0;\n",
        "        cudaMemcpy(d_difmedio, &difmedio, sizeof(double), cudaMemcpyHostToDevice);\n",
        "\n",
        "        // Executar o kernel\n",
        "        diff_eq_kernel<<<blocksPerGrid, threadsPerBlock>>>(d_C, d_C_new, d_difmedio, N);\n",
        "        cudaDeviceSynchronize();\n",
        "\n",
        "        // Trocar os ponteiros\n",
        "        double *temp = d_C;\n",
        "        d_C = d_C_new;\n",
        "        d_C_new = temp;\n",
        "\n",
        "        // Obter difmedio do dispositivo\n",
        "        cudaMemcpy(&difmedio, d_difmedio, sizeof(double), cudaMemcpyDeviceToHost);\n",
        "\n",
        "        if ((t % 100) == 0) {\n",
        "            printf(\"Interação %d - diferença = %g\\n\", t, difmedio / ((N - 2) * (N - 2)));\n",
        "        }\n",
        "    }\n",
        "    double end_time = clock();\n",
        "\n",
        "    // Copiar os resultados finais para o host\n",
        "    cudaMemcpy(C, d_C, size, cudaMemcpyDeviceToHost);\n",
        "\n",
        "    printf(\"Concentração final no centro: %f\\n\", C[N / 2 * N + N / 2]);\n",
        "    printf(\"Tempo de execução: %f segundos\\n\", (end_time - start_time) / CLOCKS_PER_SEC);\n",
        "\n",
        "    // Liberar memória no dispositivo e no host\n",
        "    cudaFree(d_C);\n",
        "    cudaFree(d_C_new);\n",
        "    cudaFree(d_difmedio);\n",
        "    free(C);\n",
        "    free(C_new);\n",
        "\n",
        "    return 0;\n",
        "}\n"
      ],
      "metadata": {
        "colab": {
          "base_uri": "https://localhost:8080/"
        },
        "outputId": "8dc41ee0-5453-42d5-95ff-c24925ff12c5",
        "id": "OUjMVkOY-WoJ"
      },
      "execution_count": null,
      "outputs": [
        {
          "output_type": "stream",
          "name": "stdout",
          "text": [
            "Writing code2.cu\n"
          ]
        }
      ]
    },
    {
      "cell_type": "code",
      "source": [
        "!nvcc -arch=sm_60 code2.cu -o code2"
      ],
      "metadata": {
        "id": "1jwXGsee-WoJ"
      },
      "execution_count": null,
      "outputs": []
    },
    {
      "cell_type": "code",
      "source": [
        "!./code2"
      ],
      "metadata": {
        "colab": {
          "base_uri": "https://localhost:8080/"
        },
        "outputId": "47b4348e-7b0f-469b-c369-8ea6b8e8ba54",
        "id": "jJiU6xbM-WoK"
      },
      "execution_count": null,
      "outputs": [
        {
          "output_type": "stream",
          "name": "stdout",
          "text": [
            "Interação 0 - diferença = 5.005e-10\n",
            "Interação 100 - diferença = 3.07812e-10\n",
            "Interação 200 - diferença = 1.95253e-10\n",
            "Interação 300 - diferença = 1.27754e-10\n",
            "Interação 400 - diferença = 1.05302e-10\n",
            "Concentração final no centro: 0.216512\n",
            "Tempo de execução: 15.849324 segundos\n"
          ]
        }
      ]
    },
    {
      "cell_type": "markdown",
      "source": [
        "## Código 16 thread p/ bloco"
      ],
      "metadata": {
        "id": "3m6lcA_3syHU"
      }
    },
    {
      "cell_type": "code",
      "source": [
        "%%writefile code3.cu\n",
        "\n",
        "#include <stdio.h>\n",
        "#include <stdlib.h>\n",
        "#include <math.h>\n",
        "#include <cuda.h>\n",
        "\n",
        "#define N 4000  // Tamanho da grade\n",
        "#define T 500   // Número de iterações no tempo\n",
        "#define D 0.1   // Coeficiente de difusão\n",
        "#define DELTA_T 0.01\n",
        "#define DELTA_X 1.0\n",
        "\n",
        "// Kernel CUDA para calcular a nova matriz de concentração\n",
        "__global__ void diff_eq_kernel(double *C, double *C_new, double *difmedio, int n) {\n",
        "    int i = blockIdx.y * blockDim.y + threadIdx.y;\n",
        "    int j = blockIdx.x * blockDim.x + threadIdx.x;\n",
        "\n",
        "    if (i > 0 && i < n - 1 && j > 0 && j < n - 1) {\n",
        "        C_new[i * n + j] = C[i * n + j] + D * DELTA_T * (\n",
        "            (C[(i + 1) * n + j] + C[(i - 1) * n + j] +\n",
        "             C[i * n + (j + 1)] + C[i * n + (j - 1)] -\n",
        "             4.0 * C[i * n + j]) / (DELTA_X * DELTA_X)\n",
        "        );\n",
        "\n",
        "        atomicAdd(difmedio, fabs(C_new[i * n + j] - C[i * n + j]));\n",
        "    }\n",
        "}\n",
        "\n",
        "// Função principal\n",
        "int main() {\n",
        "    size_t size = N * N * sizeof(double);\n",
        "\n",
        "    // Alocar memória no host (CPU)\n",
        "    double *C = (double *)malloc(size);\n",
        "    double *C_new = (double *)malloc(size);\n",
        "\n",
        "    if (C == NULL || C_new == NULL) {\n",
        "        fprintf(stderr, \"Falha na alocação de memória no host\\n\");\n",
        "        return 1;\n",
        "    }\n",
        "\n",
        "    // Inicializar as matrizes no host\n",
        "    for (int i = 0; i < N; i++) {\n",
        "        for (int j = 0; j < N; j++) {\n",
        "            C[i * N + j] = 0.0;\n",
        "            C_new[i * N + j] = 0.0;\n",
        "        }\n",
        "    }\n",
        "    C[N / 2 * N + N / 2] = 1.0; // Concentração inicial no centro\n",
        "\n",
        "    // Alocar memória no dispositivo (GPU)\n",
        "    double *d_C, *d_C_new, *d_difmedio;\n",
        "    cudaMalloc((void **)&d_C, size);\n",
        "    cudaMalloc((void **)&d_C_new, size);\n",
        "    cudaMalloc((void **)&d_difmedio, sizeof(double));\n",
        "\n",
        "    // Copiar dados do host para o dispositivo\n",
        "    cudaMemcpy(d_C, C, size, cudaMemcpyHostToDevice);\n",
        "    cudaMemcpy(d_C_new, C_new, size, cudaMemcpyHostToDevice);\n",
        "\n",
        "\n",
        "\n",
        "\n",
        "\n",
        "\n",
        "\n",
        "\n",
        "    dim3 threadsPerBlock(4, 4);\n",
        "    dim3 blocksPerGrid((N + threadsPerBlock.x - 1) / threadsPerBlock.x,\n",
        "                       (N + threadsPerBlock.y - 1) / threadsPerBlock.y);\n",
        "\n",
        "    // Loop de iterações no tempo\n",
        "    double start_time = clock();\n",
        "    for (int t = 0; t < T; t++) {\n",
        "        double difmedio = 0.0;\n",
        "        cudaMemcpy(d_difmedio, &difmedio, sizeof(double), cudaMemcpyHostToDevice);\n",
        "\n",
        "        // Executar o kernel\n",
        "        diff_eq_kernel<<<blocksPerGrid, threadsPerBlock>>>(d_C, d_C_new, d_difmedio, N);\n",
        "        cudaDeviceSynchronize();\n",
        "\n",
        "        // Trocar os ponteiros\n",
        "        double *temp = d_C;\n",
        "        d_C = d_C_new;\n",
        "        d_C_new = temp;\n",
        "\n",
        "        // Obter difmedio do dispositivo\n",
        "        cudaMemcpy(&difmedio, d_difmedio, sizeof(double), cudaMemcpyDeviceToHost);\n",
        "\n",
        "        if ((t % 100) == 0) {\n",
        "            printf(\"Interação %d - diferença = %g\\n\", t, difmedio / ((N - 2) * (N - 2)));\n",
        "        }\n",
        "    }\n",
        "    double end_time = clock();\n",
        "\n",
        "    // Copiar os resultados finais para o host\n",
        "    cudaMemcpy(C, d_C, size, cudaMemcpyDeviceToHost);\n",
        "\n",
        "    printf(\"Concentração final no centro: %f\\n\", C[N / 2 * N + N / 2]);\n",
        "    printf(\"Tempo de execução: %f segundos\\n\", (end_time - start_time) / CLOCKS_PER_SEC);\n",
        "\n",
        "    // Liberar memória no dispositivo e no host\n",
        "    cudaFree(d_C);\n",
        "    cudaFree(d_C_new);\n",
        "    cudaFree(d_difmedio);\n",
        "    free(C);\n",
        "    free(C_new);\n",
        "\n",
        "    return 0;\n",
        "}\n"
      ],
      "metadata": {
        "colab": {
          "base_uri": "https://localhost:8080/"
        },
        "outputId": "d90cf5a3-017e-4b81-a79a-5af7736c39af",
        "id": "3Z-clv4SsyHU"
      },
      "execution_count": null,
      "outputs": [
        {
          "output_type": "stream",
          "name": "stdout",
          "text": [
            "Writing code3.cu\n"
          ]
        }
      ]
    },
    {
      "cell_type": "code",
      "source": [
        "!nvcc -arch=sm_60 code3.cu -o code3\n"
      ],
      "metadata": {
        "id": "QRDU89C-syHV"
      },
      "execution_count": null,
      "outputs": []
    },
    {
      "cell_type": "code",
      "source": [
        "!./code3"
      ],
      "metadata": {
        "colab": {
          "base_uri": "https://localhost:8080/"
        },
        "outputId": "91e6647c-5f50-4795-afde-98001f28b52e",
        "id": "-QR73gWOsyHV"
      },
      "execution_count": null,
      "outputs": [
        {
          "output_type": "stream",
          "name": "stdout",
          "text": [
            "Interação 0 - diferença = 5.005e-10\n",
            "Interação 100 - diferença = 3.07812e-10\n",
            "Interação 200 - diferença = 1.95253e-10\n",
            "Interação 300 - diferença = 1.27754e-10\n",
            "Interação 400 - diferença = 1.05302e-10\n",
            "Concentração final no centro: 0.216512\n",
            "Tempo de execução: 15.876949 segundos\n"
          ]
        }
      ]
    },
    {
      "cell_type": "markdown",
      "source": [
        "## Código 64 thread p/ bloco"
      ],
      "metadata": {
        "id": "3w4Bmbibs1Xc"
      }
    },
    {
      "cell_type": "code",
      "source": [
        "%%writefile code4.cu\n",
        "\n",
        "#include <stdio.h>\n",
        "#include <stdlib.h>\n",
        "#include <math.h>\n",
        "#include <cuda.h>\n",
        "\n",
        "#define N 4000  // Tamanho da grade\n",
        "#define T 500   // Número de iterações no tempo\n",
        "#define D 0.1   // Coeficiente de difusão\n",
        "#define DELTA_T 0.01\n",
        "#define DELTA_X 1.0\n",
        "\n",
        "// Kernel CUDA para calcular a nova matriz de concentração\n",
        "__global__ void diff_eq_kernel(double *C, double *C_new, double *difmedio, int n) {\n",
        "    int i = blockIdx.y * blockDim.y + threadIdx.y;\n",
        "    int j = blockIdx.x * blockDim.x + threadIdx.x;\n",
        "\n",
        "    if (i > 0 && i < n - 1 && j > 0 && j < n - 1) {\n",
        "        C_new[i * n + j] = C[i * n + j] + D * DELTA_T * (\n",
        "            (C[(i + 1) * n + j] + C[(i - 1) * n + j] +\n",
        "             C[i * n + (j + 1)] + C[i * n + (j - 1)] -\n",
        "             4.0 * C[i * n + j]) / (DELTA_X * DELTA_X)\n",
        "        );\n",
        "\n",
        "        atomicAdd(difmedio, fabs(C_new[i * n + j] - C[i * n + j]));\n",
        "    }\n",
        "}\n",
        "\n",
        "// Função principal\n",
        "int main() {\n",
        "    size_t size = N * N * sizeof(double);\n",
        "\n",
        "    // Alocar memória no host (CPU)\n",
        "    double *C = (double *)malloc(size);\n",
        "    double *C_new = (double *)malloc(size);\n",
        "\n",
        "    if (C == NULL || C_new == NULL) {\n",
        "        fprintf(stderr, \"Falha na alocação de memória no host\\n\");\n",
        "        return 1;\n",
        "    }\n",
        "\n",
        "    // Inicializar as matrizes no host\n",
        "    for (int i = 0; i < N; i++) {\n",
        "        for (int j = 0; j < N; j++) {\n",
        "            C[i * N + j] = 0.0;\n",
        "            C_new[i * N + j] = 0.0;\n",
        "        }\n",
        "    }\n",
        "    C[N / 2 * N + N / 2] = 1.0; // Concentração inicial no centro\n",
        "\n",
        "    // Alocar memória no dispositivo (GPU)\n",
        "    double *d_C, *d_C_new, *d_difmedio;\n",
        "    cudaMalloc((void **)&d_C, size);\n",
        "    cudaMalloc((void **)&d_C_new, size);\n",
        "    cudaMalloc((void **)&d_difmedio, sizeof(double));\n",
        "\n",
        "    // Copiar dados do host para o dispositivo\n",
        "    cudaMemcpy(d_C, C, size, cudaMemcpyHostToDevice);\n",
        "    cudaMemcpy(d_C_new, C_new, size, cudaMemcpyHostToDevice);\n",
        "\n",
        "\n",
        "\n",
        "\n",
        "\n",
        "\n",
        "\n",
        "\n",
        "    dim3 threadsPerBlock(8, 8);\n",
        "    dim3 blocksPerGrid((N + threadsPerBlock.x - 1) / threadsPerBlock.x,\n",
        "                       (N + threadsPerBlock.y - 1) / threadsPerBlock.y);\n",
        "\n",
        "    // Loop de iterações no tempo\n",
        "    double start_time = clock();\n",
        "    for (int t = 0; t < T; t++) {\n",
        "        double difmedio = 0.0;\n",
        "        cudaMemcpy(d_difmedio, &difmedio, sizeof(double), cudaMemcpyHostToDevice);\n",
        "\n",
        "        // Executar o kernel\n",
        "        diff_eq_kernel<<<blocksPerGrid, threadsPerBlock>>>(d_C, d_C_new, d_difmedio, N);\n",
        "        cudaDeviceSynchronize();\n",
        "\n",
        "        // Trocar os ponteiros\n",
        "        double *temp = d_C;\n",
        "        d_C = d_C_new;\n",
        "        d_C_new = temp;\n",
        "\n",
        "        // Obter difmedio do dispositivo\n",
        "        cudaMemcpy(&difmedio, d_difmedio, sizeof(double), cudaMemcpyDeviceToHost);\n",
        "\n",
        "        if ((t % 100) == 0) {\n",
        "            printf(\"Interação %d - diferença = %g\\n\", t, difmedio / ((N - 2) * (N - 2)));\n",
        "        }\n",
        "    }\n",
        "    double end_time = clock();\n",
        "\n",
        "    // Copiar os resultados finais para o host\n",
        "    cudaMemcpy(C, d_C, size, cudaMemcpyDeviceToHost);\n",
        "\n",
        "    printf(\"Concentração final no centro: %f\\n\", C[N / 2 * N + N / 2]);\n",
        "    printf(\"Tempo de execução: %f segundos\\n\", (end_time - start_time) / CLOCKS_PER_SEC);\n",
        "\n",
        "    // Liberar memória no dispositivo e no host\n",
        "    cudaFree(d_C);\n",
        "    cudaFree(d_C_new);\n",
        "    cudaFree(d_difmedio);\n",
        "    free(C);\n",
        "    free(C_new);\n",
        "\n",
        "    return 0;\n",
        "}\n"
      ],
      "metadata": {
        "colab": {
          "base_uri": "https://localhost:8080/"
        },
        "outputId": "e98b6da9-3790-46bc-9e91-c73eb779cd66",
        "id": "Jhnyct3ls1Xd"
      },
      "execution_count": null,
      "outputs": [
        {
          "output_type": "stream",
          "name": "stdout",
          "text": [
            "Writing code4.cu\n"
          ]
        }
      ]
    },
    {
      "cell_type": "code",
      "source": [
        "!nvcc -arch=sm_60 code4.cu -o code4\n"
      ],
      "metadata": {
        "id": "mE83sP4us1Xd"
      },
      "execution_count": null,
      "outputs": []
    },
    {
      "cell_type": "code",
      "source": [
        "!./code4"
      ],
      "metadata": {
        "colab": {
          "base_uri": "https://localhost:8080/"
        },
        "outputId": "9aa43e2f-eff9-44ef-bbbc-f99c58efcabf",
        "id": "b2lAFv8Ls1Xe"
      },
      "execution_count": null,
      "outputs": [
        {
          "output_type": "stream",
          "name": "stdout",
          "text": [
            "Interação 0 - diferença = 5.005e-10\n",
            "Interação 100 - diferença = 3.07812e-10\n",
            "Interação 200 - diferença = 1.95253e-10\n",
            "Interação 300 - diferença = 1.27754e-10\n",
            "Interação 400 - diferença = 1.05302e-10\n",
            "Concentração final no centro: 0.216512\n",
            "Tempo de execução: 15.884956 segundos\n"
          ]
        }
      ]
    },
    {
      "cell_type": "markdown",
      "source": [
        "## Código 256 thread p/ bloco"
      ],
      "metadata": {
        "id": "ws45rSEIs5X2"
      }
    },
    {
      "cell_type": "code",
      "source": [
        "%%writefile code5.cu\n",
        "\n",
        "#include <stdio.h>\n",
        "#include <stdlib.h>\n",
        "#include <math.h>\n",
        "#include <cuda.h>\n",
        "\n",
        "#define N 4000  // Tamanho da grade\n",
        "#define T 500   // Número de iterações no tempo\n",
        "#define D 0.1   // Coeficiente de difusão\n",
        "#define DELTA_T 0.01\n",
        "#define DELTA_X 1.0\n",
        "\n",
        "// Kernel CUDA para calcular a nova matriz de concentração\n",
        "__global__ void diff_eq_kernel(double *C, double *C_new, double *difmedio, int n) {\n",
        "    int i = blockIdx.y * blockDim.y + threadIdx.y;\n",
        "    int j = blockIdx.x * blockDim.x + threadIdx.x;\n",
        "\n",
        "    if (i > 0 && i < n - 1 && j > 0 && j < n - 1) {\n",
        "        C_new[i * n + j] = C[i * n + j] + D * DELTA_T * (\n",
        "            (C[(i + 1) * n + j] + C[(i - 1) * n + j] +\n",
        "             C[i * n + (j + 1)] + C[i * n + (j - 1)] -\n",
        "             4.0 * C[i * n + j]) / (DELTA_X * DELTA_X)\n",
        "        );\n",
        "\n",
        "        atomicAdd(difmedio, fabs(C_new[i * n + j] - C[i * n + j]));\n",
        "    }\n",
        "}\n",
        "\n",
        "// Função principal\n",
        "int main() {\n",
        "    size_t size = N * N * sizeof(double);\n",
        "\n",
        "    // Alocar memória no host (CPU)\n",
        "    double *C = (double *)malloc(size);\n",
        "    double *C_new = (double *)malloc(size);\n",
        "\n",
        "    if (C == NULL || C_new == NULL) {\n",
        "        fprintf(stderr, \"Falha na alocação de memória no host\\n\");\n",
        "        return 1;\n",
        "    }\n",
        "\n",
        "    // Inicializar as matrizes no host\n",
        "    for (int i = 0; i < N; i++) {\n",
        "        for (int j = 0; j < N; j++) {\n",
        "            C[i * N + j] = 0.0;\n",
        "            C_new[i * N + j] = 0.0;\n",
        "        }\n",
        "    }\n",
        "    C[N / 2 * N + N / 2] = 1.0; // Concentração inicial no centro\n",
        "\n",
        "    // Alocar memória no dispositivo (GPU)\n",
        "    double *d_C, *d_C_new, *d_difmedio;\n",
        "    cudaMalloc((void **)&d_C, size);\n",
        "    cudaMalloc((void **)&d_C_new, size);\n",
        "    cudaMalloc((void **)&d_difmedio, sizeof(double));\n",
        "\n",
        "    // Copiar dados do host para o dispositivo\n",
        "    cudaMemcpy(d_C, C, size, cudaMemcpyHostToDevice);\n",
        "    cudaMemcpy(d_C_new, C_new, size, cudaMemcpyHostToDevice);\n",
        "\n",
        "\n",
        "\n",
        "\n",
        "\n",
        "\n",
        "\n",
        "\n",
        "    dim3 threadsPerBlock(16, 16);\n",
        "    dim3 blocksPerGrid((N + threadsPerBlock.x - 1) / threadsPerBlock.x,\n",
        "                       (N + threadsPerBlock.y - 1) / threadsPerBlock.y);\n",
        "\n",
        "    // Loop de iterações no tempo\n",
        "    double start_time = clock();\n",
        "    for (int t = 0; t < T; t++) {\n",
        "        double difmedio = 0.0;\n",
        "        cudaMemcpy(d_difmedio, &difmedio, sizeof(double), cudaMemcpyHostToDevice);\n",
        "\n",
        "        // Executar o kernel\n",
        "        diff_eq_kernel<<<blocksPerGrid, threadsPerBlock>>>(d_C, d_C_new, d_difmedio, N);\n",
        "        cudaDeviceSynchronize();\n",
        "\n",
        "        // Trocar os ponteiros\n",
        "        double *temp = d_C;\n",
        "        d_C = d_C_new;\n",
        "        d_C_new = temp;\n",
        "\n",
        "        // Obter difmedio do dispositivo\n",
        "        cudaMemcpy(&difmedio, d_difmedio, sizeof(double), cudaMemcpyDeviceToHost);\n",
        "\n",
        "        if ((t % 100) == 0) {\n",
        "            printf(\"Interação %d - diferença = %g\\n\", t, difmedio / ((N - 2) * (N - 2)));\n",
        "        }\n",
        "    }\n",
        "    double end_time = clock();\n",
        "\n",
        "    // Copiar os resultados finais para o host\n",
        "    cudaMemcpy(C, d_C, size, cudaMemcpyDeviceToHost);\n",
        "\n",
        "    printf(\"Concentração final no centro: %f\\n\", C[N / 2 * N + N / 2]);\n",
        "    printf(\"Tempo de execução: %f segundos\\n\", (end_time - start_time) / CLOCKS_PER_SEC);\n",
        "\n",
        "    // Liberar memória no dispositivo e no host\n",
        "    cudaFree(d_C);\n",
        "    cudaFree(d_C_new);\n",
        "    cudaFree(d_difmedio);\n",
        "    free(C);\n",
        "    free(C_new);\n",
        "\n",
        "    return 0;\n",
        "}\n"
      ],
      "metadata": {
        "colab": {
          "base_uri": "https://localhost:8080/"
        },
        "outputId": "41aef78c-562f-4882-d389-978c617f18b6",
        "id": "BcK1TueFs5X3"
      },
      "execution_count": null,
      "outputs": [
        {
          "output_type": "stream",
          "name": "stdout",
          "text": [
            "Writing code5.cu\n"
          ]
        }
      ]
    },
    {
      "cell_type": "code",
      "source": [
        "!nvcc -arch=sm_60 code5.cu -o code5\n"
      ],
      "metadata": {
        "id": "HuSIxYtCs5X4"
      },
      "execution_count": null,
      "outputs": []
    },
    {
      "cell_type": "code",
      "source": [
        "!./code5"
      ],
      "metadata": {
        "colab": {
          "base_uri": "https://localhost:8080/"
        },
        "outputId": "2061319d-47a9-493e-b3d2-46942c3bc8a4",
        "id": "_hrEMGMys5X4"
      },
      "execution_count": null,
      "outputs": [
        {
          "output_type": "stream",
          "name": "stdout",
          "text": [
            "Interação 0 - diferença = 5.005e-10\n",
            "Interação 100 - diferença = 3.07812e-10\n",
            "Interação 200 - diferença = 1.95253e-10\n",
            "Interação 300 - diferença = 1.27754e-10\n",
            "Interação 400 - diferença = 1.05302e-10\n",
            "Concentração final no centro: 0.216512\n",
            "Tempo de execução: 15.873758 segundos\n"
          ]
        }
      ]
    }
  ],
  "metadata": {
    "colab": {
      "provenance": [],
      "gpuType": "T4",
      "collapsed_sections": [
        "9NCDYa-WqGuZ",
        "P4TAI9HaqmI2",
        "mCG7BDnj-WoI",
        "3m6lcA_3syHU",
        "3w4Bmbibs1Xc",
        "ws45rSEIs5X2"
      ],
      "include_colab_link": true
    },
    "kernelspec": {
      "display_name": "Python 3",
      "name": "python3"
    },
    "language_info": {
      "name": "python"
    },
    "accelerator": "GPU"
  },
  "nbformat": 4,
  "nbformat_minor": 0
}